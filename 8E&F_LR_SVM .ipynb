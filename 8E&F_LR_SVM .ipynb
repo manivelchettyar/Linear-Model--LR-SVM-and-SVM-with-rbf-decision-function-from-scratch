{
  "nbformat": 4,
  "nbformat_minor": 0,
  "metadata": {
    "kernelspec": {
      "display_name": "Python 3",
      "language": "python",
      "name": "python3"
    },
    "language_info": {
      "codemirror_mode": {
        "name": "ipython",
        "version": 3
      },
      "file_extension": ".py",
      "mimetype": "text/x-python",
      "name": "python",
      "nbconvert_exporter": "python",
      "pygments_lexer": "ipython3",
      "version": "3.6.8"
    },
    "colab": {
      "name": "8E&F_LR_SVM.ipynb",
      "provenance": [],
      "collapsed_sections": []
    }
  },
  "cells": [
    {
      "cell_type": "markdown",
      "metadata": {
        "id": "5HExLQrE4ZxR"
      },
      "source": [
        "<h1><font color='blue'> 8E and 8F: Finding the Probability P(Y==1|X)</font></h1>"
      ]
    },
    {
      "cell_type": "markdown",
      "metadata": {
        "id": "4LuKrFzC4ZxV"
      },
      "source": [
        "<h2><font color='Geen'> 8E: Implementing Decision Function of SVM RBF Kernel</font></h2>"
      ]
    },
    {
      "cell_type": "markdown",
      "metadata": {
        "id": "1wES-wWN4ZxX"
      },
      "source": [
        "<font face=' Comic Sans MS' size=3>After we train a kernel SVM model, we will be getting support vectors and their corresponsing coefficients $\\alpha_{i}$\n",
        "\n",
        "Check the documentation for better understanding of these attributes: \n",
        "\n",
        "https://scikit-learn.org/stable/modules/generated/sklearn.svm.SVC.html\n",
        "<img src='https://i.imgur.com/K11msU4.png' width=500>\n",
        "\n",
        "As a part of this assignment you will be implementing the ```decision_function()``` of kernel SVM, here decision_function() means based on the value return by ```decision_function()``` model will classify the data point either as positive or negative\n",
        "\n",
        "Ex 1: In logistic regression After traning the models with the optimal weights $w$ we get, we will find the value $\\frac{1}{1+\\exp(-(wx+b))}$, if this value comes out to be < 0.5 we will mark it as negative class, else its positive class\n",
        "\n",
        "Ex 2: In Linear SVM After traning the models with the optimal weights $w$ we get, we will find the value of $sign(wx+b)$, if this value comes out to be -ve we will mark it as negative class, else its positive class.\n",
        "\n",
        "Similarly in Kernel SVM After traning the models with the coefficients $\\alpha_{i}$ we get, we will find the value of \n",
        "$sign(\\sum_{i=1}^{n}(y_{i}\\alpha_{i}K(x_{i},x_{q})) + intercept)$, here $K(x_{i},x_{q})$ is the RBF kernel. If this value comes out to be -ve we will mark $x_{q}$ as negative class, else its positive class.\n",
        "\n",
        "RBF kernel is defined as: $K(x_{i},x_{q})$ = $exp(-\\gamma ||x_{i} - x_{q}||^2)$\n",
        "\n",
        "For better understanding check this link: https://scikit-learn.org/stable/modules/svm.html#svm-mathematical-formulation\n",
        "</font>"
      ]
    },
    {
      "cell_type": "markdown",
      "metadata": {
        "id": "z830CfMk4Zxa"
      },
      "source": [
        "## Task E"
      ]
    },
    {
      "cell_type": "markdown",
      "metadata": {
        "id": "MuBxHiCQ4Zxc"
      },
      "source": [
        "> 1. Split the data into $X_{train}$(60), $X_{cv}$(20), $X_{test}$(20)\n",
        "\n",
        "> 2. Train $SVC(gamma=0.001, C=100.)$ on the ($X_{train}$, $y_{train}$)\n",
        "\n",
        "> 3. Get the decision boundry values $f_{cv}$ on the $X_{cv}$ data  i.e. ` `$f_{cv}$ ```= decision_function(```$X_{cv}$```)```  <font color='red'>you need to implement this decision_function()</font>"
      ]
    },
    {
      "cell_type": "code",
      "metadata": {
        "id": "fCgMNEvI4Zxf"
      },
      "source": [
        "import numpy as np\n",
        "import pandas as pd\n",
        "from sklearn.datasets import make_classification\n",
        "import numpy as np\n",
        "from numpy import linalg\n",
        "from sklearn.svm import SVC\n",
        "from sklearn.model_selection import train_test_split\n",
        "from math import exp\n",
        "import  math"
      ],
      "execution_count": 19,
      "outputs": []
    },
    {
      "cell_type": "code",
      "metadata": {
        "id": "ANUNIqCe4Zxn"
      },
      "source": [
        "X, y = make_classification(n_samples=5000, n_features=5, n_redundant=2,\n",
        "                           n_classes=2, weights=[0.7], class_sep=0.7, random_state=15)"
      ],
      "execution_count": 20,
      "outputs": []
    },
    {
      "cell_type": "code",
      "metadata": {
        "id": "Qu7WMEU1t9Bf"
      },
      "source": [
        "X_train, X_test, y_train, y_test = train_test_split(X, y, test_size=.40, random_state=15)\n",
        "X_test, X_cv,y_test,y_cv=train_test_split(X_test,y_test, test_size=.50, random_state=15)\n"
      ],
      "execution_count": 27,
      "outputs": []
    },
    {
      "cell_type": "markdown",
      "metadata": {
        "id": "tHie1zqH4Zxt"
      },
      "source": [
        "### Pseudo code\n",
        "\n",
        "clf = SVC(gamma=0.001, C=100.)<br>\n",
        "clf.fit(Xtrain, ytrain)\n",
        "\n",
        "<font color='green'>def</font> <font color='blue'>decision_function</font>(Xcv, ...): #use appropriate parameters <br>\n",
        "&nbsp;&nbsp;&nbsp;&nbsp;&nbsp;&nbsp;<font color='green'>for</font> a data point $x_q$ <font color='green'>in</font> Xcv: <br>\n",
        "&nbsp;&nbsp;&nbsp;&nbsp;&nbsp;&nbsp;&nbsp;&nbsp;&nbsp;&nbsp;&nbsp;&nbsp;<font color='grey'>#write code to implement $(\\sum_{i=1}^{\\text{all the support vectors}}(y_{i}\\alpha_{i}K(x_{i},x_{q})) + intercept)$, here the values $y_i$, $\\alpha_{i}$, and $intercept$ can be obtained from the trained model</font><br>\n",
        "   <font color='green'>return</font> <font color='grey'><i># the decision_function output for all the data points in the Xcv</i></font>\n",
        "    \n",
        "fcv = decision_function(Xcv, ...)  <i># based on your requirement you can pass any other parameters </i>\n",
        "\n",
        "<b>Note</b>: Make sure the values you get as fcv, should be equal to outputs of clf.decision_function(Xcv)\n"
      ]
    },
    {
      "cell_type": "code",
      "metadata": {
        "colab": {
          "base_uri": "https://localhost:8080/"
        },
        "id": "ZftfYyYJiEVy",
        "outputId": "2e79b578-0b37-40a4-cc49-e7b0ed93a3c5"
      },
      "source": [
        "# you can write your code here\n",
        "clf = SVC(gamma=0.001, C=100)\n",
        "clf.fit(X_train,y_train)\n",
        "support_vectors=clf.support_vectors_\n",
        "intercept=clf.intercept_\n",
        "dual_coe=clf.dual_coef_\n",
        "\n",
        "def kernal(mat1, mat2, gamma):\n",
        "    \n",
        "    k=exp(-gamma*np.sum((mat1-mat2)**2))\n",
        "    \n",
        "\n",
        "    return k\n",
        "\n",
        "\n",
        "gamma=0.001\n",
        "def decision_function(gamma,X_cv,dual_coe,intercept,support_vectors):\n",
        "        result_dec_fn=[]\n",
        "        for j in X_cv:\n",
        "            tmp=0\n",
        "            for i,k in zip(support_vectors,dual_coe[0]):\n",
        "               Ker=kernal(i,j,gamma)\n",
        "               tmp+=(k*Ker)\n",
        "            tmp=tmp+intercept \n",
        "            result_dec_fn.append(tmp)    \n",
        "        return result_dec_fn\n",
        "           \n",
        "result_dec_functn=decision_function(gamma,X_cv,dual_coe,intercept,support_vectors)\n",
        "result_list=list(i[0] for i in result_dec_functn)\n",
        "print(\"output of decision funcation \" ,result_list[0:10])\n",
        "F_cv =[]\n",
        "for i in result_list:\n",
        "    if i>0:\n",
        "        F_cv.append(1)\n",
        "    else:\n",
        "        F_cv.append(0)       \n",
        "\n",
        "print(\"output of model \",clf.decision_function(X_cv)[0:10])\n"
      ],
      "execution_count": 29,
      "outputs": [
        {
          "output_type": "stream",
          "name": "stdout",
          "text": [
            "output of decision funcation  [-2.15980217966647, -2.6315643052289905, -3.610567063094037, 1.9254014334365632, -0.9839950024528423, -1.84103624132939, -3.0473972987289804, -0.9108054741150926, -1.0738614096121768, -2.8494875264428563]\n",
            "output of model  [-2.15980218 -2.63156431 -3.61056706  1.92540143 -0.983995   -1.84103624\n",
            " -3.0473973  -0.91080547 -1.07386141 -2.84948753]\n"
          ]
        }
      ]
    },
    {
      "cell_type": "markdown",
      "metadata": {
        "id": "c0bKCboN4Zxu"
      },
      "source": [
        "<h2><font color='Geen'> 8F: Implementing Platt Scaling to find P(Y==1|X)</font></h2>"
      ]
    },
    {
      "cell_type": "markdown",
      "metadata": {
        "id": "nMn7OEN94Zxw"
      },
      "source": [
        "Check this <a href='https://drive.google.com/open?id=133odBinMOIVb_rh_GQxxsyMRyW-Zts7a'>PDF</a>\n",
        "<img src='https://i.imgur.com/CAMnVnh.png'>\n"
      ]
    },
    {
      "cell_type": "markdown",
      "metadata": {
        "id": "e0n5EFkx4Zxz"
      },
      "source": [
        "## TASK F"
      ]
    },
    {
      "cell_type": "markdown",
      "metadata": {
        "id": "t0HOqVJq4Zx1"
      },
      "source": [
        "\n",
        "> 4. Apply SGD algorithm with ($f_{cv}$, $y_{cv}$) and find the weight $W$ intercept $b$ ```Note: here our data is of one dimensional so we will have a one dimensional weight vector i.e W.shape (1,)``` \n",
        "\n",
        "> Note1: Don't forget to change the values of $y_{cv}$ as mentioned in the above image. you will calculate y+, y- based on data points in train data\n",
        "\n",
        "> Note2: the Sklearn's SGD algorithm doesn't support the real valued outputs, you need to use the code that was done in the `'Logistic Regression with SGD and L2'` Assignment after modifying loss function, and use same parameters that used in that assignment.\n",
        "<img src='https://i.imgur.com/zKYE9Oc.png'>\n",
        "if Y[i] is 1, it will be replaced with y+ value else it will replaced with y- value\n",
        "\n",
        "> 5. For a given data point from $X_{test}$, $P(Y=1|X) = \\frac{1}{1+exp(-(W*f_{test}+ b))}$ where ` `$f_{test}$ ```= decision_function(```$X_{test}$```)```, W and b will be learned as metioned in the above step"
      ]
    },
    {
      "cell_type": "code",
      "metadata": {
        "id": "zAXGPL6oy6ul"
      },
      "source": [
        "no_of_plus=np.count_nonzero(y_train==1)\n",
        "no_of_minus=np.count_nonzero(y_train==0)\n",
        "\n",
        "y_plus=(no_of_plus+1)/(no_of_minus+2)\n",
        "y_minus=1/(no_of_minus+2)"
      ],
      "execution_count": 30,
      "outputs": []
    },
    {
      "cell_type": "code",
      "metadata": {
        "id": "D_cXGLkdCfHQ"
      },
      "source": [
        "def predict(y_cv):\n",
        "    y_cv_predict=np.where(y_cv==0,y_minus,y_plus)\n",
        "    return y_cv_predict\n",
        "\n",
        "y_cv_pred=predict(y_cv)  \n",
        "\n",
        "F_test=clf.decision_function(X_test)"
      ],
      "execution_count": 31,
      "outputs": []
    },
    {
      "cell_type": "markdown",
      "metadata": {
        "id": "AXEjwjXjDbWs"
      },
      "source": [
        ""
      ]
    },
    {
      "cell_type": "code",
      "metadata": {
        "colab": {
          "base_uri": "https://localhost:8080/"
        },
        "id": "_sE3wOnA1gvz",
        "outputId": "74ad8172-afe1-480a-a3a2-25fc1d0c77d1"
      },
      "source": [
        "def initialize_weights(dim):\n",
        "   w=np.zeros_like(dim)\n",
        "   b=0\n",
        "   return w,b\n",
        "\n",
        "def sigmoid(z):\n",
        " sig_z=(1/(1+np.exp(-z)))\n",
        " return sig_z\n",
        "\n",
        "def logloss(y_true,y_pred): \n",
        "\n",
        "   loss =0\n",
        "   for i in range(len(y_true)):\n",
        "       temp=y_true[i]*math.log10(y_pred[i])+(1-y_true[i])*math.log10(1-y_pred[i])\n",
        "       loss+=temp\n",
        "   loss=(-1*loss)/len(y_true)\n",
        "   return loss\n",
        "\n",
        "def gradient_dw(x,y,w,b,alpha,N):\n",
        "    '''In this function, we will compute the gardient w.r.to w '''\n",
        "    dw=x*(y-sigmoid(np.dot(w,x)+b)) -(alpha/N)*w\n",
        "    return dw\n",
        "\n",
        "def gradient_db(x,y,w,b):\n",
        "    '''In this function, we will compute gradient w.r.to b '''\n",
        "    db=y-(sigmoid(np.dot(w,x)+b))\n",
        "    return db\n",
        "\n",
        "def train(X_train,y_train,X_test,y_test,epochs,alpha,eta0):\n",
        "    w,b = initialize_weights(X_train[0])\n",
        "    train_loss = []\n",
        "    test_loss = []\n",
        "    for e in range(epochs):\n",
        "       \n",
        "        for x,y in zip(X_train,y_train):\n",
        "            dw = gradient_dw(x,y,w,b,alpha,N)\n",
        "            db = gradient_db(x,y,w,b)\n",
        "            w = w + (eta0 * dw)\n",
        "            b = b + (eta0 * db)\n",
        "        \n",
        "        train_pred = []\n",
        "        \n",
        "        for i in X_train:\n",
        "            y_pred= sigmoid(np.dot(w,i) + b)\n",
        "            train_pred.append(y_pred)\n",
        "        loss1=logloss(y_train, train_pred)\n",
        "        train_loss.append(loss1) \n",
        "        \n",
        "        \n",
        "    return w,b,train_loss\n",
        "\n",
        "\n",
        "alpha=0.0001\n",
        "eta0=0.0001\n",
        "N=len(result_list)\n",
        "epochs=100\n",
        "w,b,train_loss=train(result_list,y_cv_pred ,F_test,y_test,epochs,alpha,eta0)\n",
        "print(\"W={}  intercept={}\".format(w,b))\n",
        "\n",
        "print(\"train_loss =\",train_loss)"
      ],
      "execution_count": 33,
      "outputs": [
        {
          "output_type": "stream",
          "name": "stdout",
          "text": [
            "W=0.7836275055532742  intercept=-1.1641575400972337\n",
            "train_loss = [0.2738898730674267, 0.25292270156343827, 0.23653510496818148, 0.223538334974367, 0.21306885628487032, 0.20450422190302345, 0.1973944243909419, 0.19141126585906384, 0.18631259588648674, 0.18191745822119545, 0.1780888604132711, 0.17472176924067384, 0.17173467282292865, 0.16906358533578106, 0.16665773729347866, 0.16447644049690363, 0.16248678059572427, 0.16066189939558828, 0.1589797022027556, 0.15742187492274887, 0.15597312933760984, 0.15462061821151918, 0.15335347804529983, 0.15216246867761588, 0.15103968701810322, 0.14997833800423616, 0.1489725500831522, 0.14801722559971103, 0.14710791874588794, 0.14624073541959998, 0.145412250611909, 0.1446194399029328, 0.1438596223794855, 0.14313041284987219, 0.1424296816658115, 0.14175552079947107, 0.14110621508807586, 0.14048021776675423, 0.1398761295750996, 0.13929268085409002, 0.13872871615493573, 0.13818318096579313, 0.13765511023041202, 0.13714361838808004, 0.1366478907092743, 0.13616717573831205, 0.13570077868457778, 0.1352480556288902, 0.13480840843226496, 0.13438128025149873, 0.1339661515803394, 0.1335625367469777, 0.1331699808086555, 0.13278805679263767, 0.13241636323994632, 0.1320545220142925, 0.1317021763437721, 0.1313589890672654, 0.13102464106119846, 0.13069882982551373, 0.13038126821043153, 0.13007168326792545, 0.12976981521386893, 0.12947541648853514, 0.1291882509046684, 0.1289080928736239, 0.12863472670123563, 0.12836794594603904, 0.12810755283335007, 0.12785335771944092, 0.12760517860072793, 0.12736284066344375, 0.12712617586978112, 0.12689502257694074, 0.12666922518590154, 0.12644863381707616, 0.12623310401032153, 0.1260224964470405, 0.12581667669234725, 0.12561551495548254, 0.1254188858668472, 0.12522666827019263, 0.12503874502865037, 0.12485500284341938, 0.1246753320840374, 0.12449962662928052, 0.12432778371781236, 0.12415970380780333, 0.12399529044480304, 0.1238344501372222, 0.12367709223883644, 0.12352312883778344, 0.12337247465156713, 0.1232250469276289, 0.12308076534908659, 0.12293955194527487, 0.12280133100675049, 0.12266602900446225, 0.12253357451280165, 0.12240389813627972]\n"
          ]
        }
      ]
    },
    {
      "cell_type": "code",
      "metadata": {
        "colab": {
          "base_uri": "https://localhost:8080/",
          "height": 295
        },
        "id": "rxU4Dfv1ZlB-",
        "outputId": "3f5e00df-3e65-499f-cbd8-8f380be38738"
      },
      "source": [
        "import matplotlib.pyplot as plt\n",
        "\n",
        "epochs=list(range(1,101))\n",
        "plt.plot(epochs, train_loss, label=\"trainloss\")\n",
        "plt.legend()\n",
        "plt.xlabel(\"epochs\")\n",
        "plt.ylabel(\"loss\")\n",
        "plt.title(\"epoch number vs train  loss\")\n",
        "plt.grid()\n",
        "plt.show()\n"
      ],
      "execution_count": 34,
      "outputs": [
        {
          "output_type": "display_data",
          "data": {
            "image/png": "[encoded data removed]",
            "text/plain": [
              "<Figure size 432x288 with 1 Axes>"
            ]
          },
          "metadata": {
            "needs_background": "light"
          }
        }
      ]
    },
    {
      "cell_type": "markdown",
      "metadata": {
        "id": "oTY7z2bd4Zx2"
      },
      "source": [
        "__Note: in the above algorithm, the steps 2, 4 might need hyper parameter tuning, To reduce the complexity of the assignment we are excluding the hyerparameter tuning part, but intrested students can try that__"
      ]
    },
    {
      "cell_type": "markdown",
      "metadata": {
        "id": "CM3odN1Z4Zx3"
      },
      "source": [
        "\n",
        "If any one wants to try other calibration algorithm istonic regression also please check these tutorials\n",
        "\n",
        "1. http://fa.bianp.net/blog/tag/scikit-learn.html#fn:1\n",
        "\n",
        "2. https://drive.google.com/open?id=1MzmA7QaP58RDzocB0RBmRiWfl7Co_VJ7\n",
        "\n",
        "3. https://drive.google.com/open?id=133odBinMOIVb_rh_GQxxsyMRyW-Zts7a\n",
        "\n",
        "4. https://stat.fandom.com/wiki/Isotonic_regression#Pool_Adjacent_Violators_Algorithm\n"
      ]
    }
  ]
}