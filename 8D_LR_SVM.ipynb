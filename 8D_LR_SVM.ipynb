{
  "nbformat": 4,
  "nbformat_minor": 0,
  "metadata": {
    "kernelspec": {
      "display_name": "Python 3",
      "language": "python",
      "name": "python3"
    },
    "language_info": {
      "codemirror_mode": {
        "name": "ipython",
        "version": 3
      },
      "file_extension": ".py",
      "mimetype": "text/x-python",
      "name": "python",
      "nbconvert_exporter": "python",
      "pygments_lexer": "ipython3",
      "version": "3.6.8"
    },
    "colab": {
      "name": "8D_LR_SVM (1).ipynb",
      "provenance": [],
      "collapsed_sections": []
    }
  },
  "cells": [
    {
      "cell_type": "markdown",
      "metadata": {
        "id": "86Tvnj5UblTy"
      },
      "source": [
        "## Task-D: Collinear features and their effect on linear models"
      ]
    },
    {
      "cell_type": "code",
      "metadata": {
        "id": "qn_eOn2EblT3"
      },
      "source": [
        "%matplotlib inline\n",
        "import warnings\n",
        "warnings.filterwarnings(\"ignore\")\n",
        "import pandas as pd\n",
        "from sklearn.metrics import accuracy_score,roc_auc_score\n",
        "import numpy as np\n",
        "from sklearn.datasets import load_iris\n",
        "from sklearn.linear_model import SGDClassifier,SGDRegressor\n",
        "from sklearn.model_selection import GridSearchCV\n",
        "import seaborn as sns\n",
        "import matplotlib.pyplot as plt\n",
        "import random\n",
        "from tqdm import tqdm\n",
        "import math\n",
        "import random"
      ],
      "execution_count": 4,
      "outputs": []
    },
    {
      "cell_type": "code",
      "metadata": {
        "id": "VMoYWIayblUB"
      },
      "source": [
        "data = pd.read_csv('/content/drive/MyDrive/temp/Linear model/task_d.csv')"
      ],
      "execution_count": 5,
      "outputs": []
    },
    {
      "cell_type": "code",
      "metadata": {
        "id": "RfStXG4tblUI",
        "colab": {
          "base_uri": "https://localhost:8080/",
          "height": 204
        },
        "outputId": "32e0c8da-272e-41d4-c715-37a50a7aa43f"
      },
      "source": [
        "data.tail()"
      ],
      "execution_count": 6,
      "outputs": [
        {
          "output_type": "execute_result",
          "data": {
            "text/html": [
              "<div>\n",
              "<style scoped>\n",
              "    .dataframe tbody tr th:only-of-type {\n",
              "        vertical-align: middle;\n",
              "    }\n",
              "\n",
              "    .dataframe tbody tr th {\n",
              "        vertical-align: top;\n",
              "    }\n",
              "\n",
              "    .dataframe thead th {\n",
              "        text-align: right;\n",
              "    }\n",
              "</style>\n",
              "<table border=\"1\" class=\"dataframe\">\n",
              "  <thead>\n",
              "    <tr style=\"text-align: right;\">\n",
              "      <th></th>\n",
              "      <th>x</th>\n",
              "      <th>y</th>\n",
              "      <th>z</th>\n",
              "      <th>x*x</th>\n",
              "      <th>2*y</th>\n",
              "      <th>2*z+3*x*x</th>\n",
              "      <th>w</th>\n",
              "      <th>target</th>\n",
              "    </tr>\n",
              "  </thead>\n",
              "  <tbody>\n",
              "    <tr>\n",
              "      <th>95</th>\n",
              "      <td>0.358663</td>\n",
              "      <td>-0.207835</td>\n",
              "      <td>0.928390</td>\n",
              "      <td>0.300024</td>\n",
              "      <td>-0.207835</td>\n",
              "      <td>0.382111</td>\n",
              "      <td>1.716476</td>\n",
              "      <td>1</td>\n",
              "    </tr>\n",
              "    <tr>\n",
              "      <th>96</th>\n",
              "      <td>0.358663</td>\n",
              "      <td>-0.417770</td>\n",
              "      <td>0.928390</td>\n",
              "      <td>0.300024</td>\n",
              "      <td>-0.417770</td>\n",
              "      <td>0.382111</td>\n",
              "      <td>1.841269</td>\n",
              "      <td>1</td>\n",
              "    </tr>\n",
              "    <tr>\n",
              "      <th>97</th>\n",
              "      <td>1.141771</td>\n",
              "      <td>-0.417770</td>\n",
              "      <td>0.997724</td>\n",
              "      <td>1.130131</td>\n",
              "      <td>-0.417770</td>\n",
              "      <td>1.137586</td>\n",
              "      <td>0.019860</td>\n",
              "      <td>1</td>\n",
              "    </tr>\n",
              "    <tr>\n",
              "      <th>98</th>\n",
              "      <td>-0.581066</td>\n",
              "      <td>-1.257507</td>\n",
              "      <td>0.096375</td>\n",
              "      <td>-0.604025</td>\n",
              "      <td>-1.257507</td>\n",
              "      <td>-0.531992</td>\n",
              "      <td>0.590582</td>\n",
              "      <td>1</td>\n",
              "    </tr>\n",
              "    <tr>\n",
              "      <th>99</th>\n",
              "      <td>0.358663</td>\n",
              "      <td>-0.627704</td>\n",
              "      <td>0.859055</td>\n",
              "      <td>0.300024</td>\n",
              "      <td>-0.627704</td>\n",
              "      <td>0.373740</td>\n",
              "      <td>-0.045364</td>\n",
              "      <td>1</td>\n",
              "    </tr>\n",
              "  </tbody>\n",
              "</table>\n",
              "</div>"
            ],
            "text/plain": [
              "           x         y         z  ...  2*z+3*x*x         w  target\n",
              "95  0.358663 -0.207835  0.928390  ...   0.382111  1.716476       1\n",
              "96  0.358663 -0.417770  0.928390  ...   0.382111  1.841269       1\n",
              "97  1.141771 -0.417770  0.997724  ...   1.137586  0.019860       1\n",
              "98 -0.581066 -1.257507  0.096375  ...  -0.531992  0.590582       1\n",
              "99  0.358663 -0.627704  0.859055  ...   0.373740 -0.045364       1\n",
              "\n",
              "[5 rows x 8 columns]"
            ]
          },
          "metadata": {},
          "execution_count": 6
        }
      ]
    },
    {
      "cell_type": "code",
      "metadata": {
        "id": "JIIuomCkblUP"
      },
      "source": [
        "X = data.drop(['target'], axis=1).values\n",
        "Y = data['target'].values\n",
        "\n"
      ],
      "execution_count": 11,
      "outputs": []
    },
    {
      "cell_type": "code",
      "metadata": {
        "colab": {
          "base_uri": "https://localhost:8080/",
          "height": 499
        },
        "id": "JoiR5DS_yMTu",
        "outputId": "4dccab04-03ab-4efb-ddaf-dbdfdc88bf9c"
      },
      "source": [
        "print(data.corr())\n",
        "dataplot = sns.heatmap(data.corr(), cmap=\"YlGnBu\", annot=True)"
      ],
      "execution_count": 8,
      "outputs": [
        {
          "output_type": "stream",
          "name": "stdout",
          "text": [
            "                  x         y         z  ...  2*z+3*x*x         w    target\n",
            "x          1.000000 -0.205926  0.812458  ...   0.996252  0.583277  0.728290\n",
            "y         -0.205926  1.000000 -0.602663  ...  -0.261123 -0.401790 -0.690684\n",
            "z          0.812458 -0.602663  1.000000  ...   0.847163  0.674486  0.969990\n",
            "x*x        0.997947 -0.209289  0.807137  ...   0.997457  0.583803  0.719570\n",
            "2*y       -0.205926  1.000000 -0.602663  ...  -0.261123 -0.401790 -0.690684\n",
            "2*z+3*x*x  0.996252 -0.261123  0.847163  ...   1.000000  0.606860  0.764729\n",
            "w          0.583277 -0.401790  0.674486  ...   0.606860  1.000000  0.641750\n",
            "target     0.728290 -0.690684  0.969990  ...   0.764729  0.641750  1.000000\n",
            "\n",
            "[8 rows x 8 columns]\n"
          ]
        },
        {
          "output_type": "display_data",
          "data": {
            "image/png": "[encoded data removed]",
            "text/plain": [
              "<Figure size 432x288 with 2 Axes>"
            ]
          },
          "metadata": {
            "needs_background": "light"
          }
        }
      ]
    },
    {
      "cell_type": "markdown",
      "metadata": {
        "id": "Ydm98u3EblUU"
      },
      "source": [
        "### Doing perturbation test to check the presence of collinearity\n",
        "\n",
        "> Indented block\n",
        "\n",
        "\n",
        "\n",
        "#### Task: 1 Logistic Regression\n",
        "<pre>\n",
        "\n",
        "\n",
        "1. <b>Finding the Correlation between the features</b>\n",
        "    a. check the correlation between the features\n",
        "    b. plot heat map of correlation matrix using seaborn heatmap\n",
        "2. <b>Finding the best model for the given data</b>\n",
        "    a. Train Logistic regression on data(X,Y) that we have created in the above cell\n",
        "    b. Find the best hyper prameter alpha with hyper parameter tuning using k-fold cross validation (grid search CV or         \n",
        "    random search CV make sure you choose the alpha in log space)\n",
        "    c. Creat a new Logistic regression with the best alpha\n",
        "    (search for how to get the best hyper parameter value), name the best model as 'best_model'\n",
        "    \n",
        "3. <b>Getting the weights with the original data</b>\n",
        "    a. train the 'best_model' with X, Y\n",
        "    b. Check the accuracy of the model 'best_model_accuracy'\n",
        "    c. Get the weights W using best_model.coef_\n",
        "\n",
        "4. <b>Modifying original data</b>\n",
        "    a. Add a noise(order of 10^-2) to each element of X \n",
        "    and get the new data set X' (X' = X + e)\n",
        "    b. Train the same 'best_model' with data (X', Y)\n",
        "    c. Check the accuracy of the model 'best_model_accuracy_edited'\n",
        "    d. Get the weights W' using best_model.coef_\n",
        "    \n",
        "5. <b> Checking deviations in metric and weights </b>\n",
        "    a. find the difference between 'best_model_accuracy_edited' and 'best_model_accuracy'\n",
        "    b. find the absolute change between each value of W and W' ==> |(W-W')|\n",
        "    c. print the top 4 features which have higher % change in weights \n",
        "    compare to the other feature\n",
        "\n",
        "</pre>\n",
        "\n",
        "#### Task: 2 Linear SVM\n",
        "\n",
        "<pre>\n",
        "1. Do the same steps (2, 3, 4, 5) we have done in the above task 1.\n",
        "</pre>\n",
        "\n",
        "<strong><font color='red'>Do write the observations based on the results you get from the deviations of weights in both Logistic Regression and linear SVM</font></strong>"
      ]
    },
    {
      "cell_type": "code",
      "metadata": {
        "colab": {
          "base_uri": "https://localhost:8080/",
          "height": 553
        },
        "id": "OiWHUGtQWGlU",
        "outputId": "dae4b2d1-e40a-4054-e055-78c392a95e93"
      },
      "source": [
        "def RandomSearchCV(x,y, params, folds):\n",
        " trainscores = [] #list to store train score for each value of k\n",
        " testscores = [] #list to store test score for each value of k\n",
        " for k in tqdm(params):\n",
        "\n",
        "  trainscores_folds = [] #list to store train score for each fold\n",
        "  testscores_folds = [] #list to store test score for each fold\n",
        "  for j in range(0, folds):\n",
        "     # check this out: https://stackoverflow.com/a/9755548/4084039\n",
        "     #train_indices = randomly_select_60_percent_indices_in_range_from_1_to_len(x_train)\n",
        "     #test_indices = list(set(list(range(1, len(x_train)))) - set(train_indices))\n",
        "     list1=[*range(1,len(x)+1)]# list of all indices in x\n",
        "     list2=np.array(list1)# converting it to np array\n",
        "     splited_array=np.array_split(list2,folds) #splitting x to in f folds\n",
        "     test_indice =splited_array[j]\n",
        "     train_indice=list(set(list(range(1,len(x)+1))) - set(test_indice))#getting index for all points of train\n",
        "     test_indices=[x -1 for x in test_indice ] #subtracting each index by one as original index of x start with 0\n",
        "     train_indices=[x -1 for x in train_indice ]#subtracting each index by one asoriginal index of x start with 0\n",
        "     # selecting the data points based on the train_indices and test_indices\n",
        "     X_train = x[train_indices]\n",
        "     Y_train = y[train_indices]\n",
        "     X_test = x[test_indices]\n",
        "     Y_test = y[test_indices]\n",
        "     c = k\n",
        "     classifier=SGDClassifier(loss='log',penalty='l2', alpha=c, l1_ratio=0.15,\n",
        "                                fit_intercept=True, max_iter=1000, tol=0.001, shuffle=True,\n",
        "                                verbose=0, epsilon=0.1, n_jobs=None, random_state=None, \n",
        "                                learning_rate='optimal', eta0=0.0, power_t=0.5, early_stopping=False,\n",
        "                                validation_fraction=0.1, n_iter_no_change=5, class_weight=None, \n",
        "                                warm_start=False, average=False)\n",
        "     classifier.fit(X_train,Y_train)\n",
        "     Y_predicted = classifier.predict(X_test)#predict y of X_test\n",
        "  \n",
        "     testscores_folds.append(accuracy_score(Y_test, Y_predicted))\n",
        "     Y_predicted = classifier.predict(X_train)#predict y of X_train\n",
        "     trainscores_folds.append(accuracy_score(Y_train, Y_predicted))\n",
        "  trainscores.append(np.mean(np.array(trainscores_folds)))\n",
        "  testscores.append(np.mean(np.array(testscores_folds)))\n",
        " return trainscores,testscores\n",
        "#model = LogisticRegression() #define classifier\n",
        "#list3=[*range(1,1000)]\n",
        "#param=random.sample(list3,10) #generating 10 random number betwwn 1 to 50\n",
        "param=[0.000001,0.00001,0.0001,0.001,0.1,1,10,100,1000]\n",
        "param1=[]\n",
        "for i in param:\n",
        "    tmp=math.log(i)\n",
        "    param1.append(tmp)\n",
        "\n",
        "params=[param.sort()]\n",
        "\n",
        "folds = 4\n",
        "trainscores,testscores = RandomSearchCV(X, Y, param, folds)\n",
        "\n",
        "\n",
        "plt.plot(param1,trainscores, 'o-',label='train cruve')\n",
        "plt.plot(param1,testscores,'o-', label='test cruve')\n",
        "plt.title('Hyper-parameter VS accuracy plot')\n",
        "plt.legend()\n",
        "plt.show()\n",
        "\n",
        "bestmodel=SGDClassifier(loss='log',penalty='l2', alpha=10, l1_ratio=0.15,\n",
        "                                fit_intercept=True, max_iter=1000, tol=0.001, shuffle=True,\n",
        "                                verbose=0, epsilon=0.1, n_jobs=None, random_state=None, \n",
        "                                learning_rate='optimal', eta0=0.0, power_t=0.5, early_stopping=False,\n",
        "                                validation_fraction=0.1, n_iter_no_change=5, class_weight=None, \n",
        "                                warm_start=False, average=False)\n",
        "bestmodel.fit(X,Y)\n",
        "Y_predicted = bestmodel.predict(X)#predict y of X_test\n",
        "best_model_accuracy=accuracy_score(Y, Y_predicted)\n",
        "bestmodelcoef=bestmodel.coef_\n",
        "print(\"best_model_accuracy=\",best_model_accuracy)\n",
        "print(\"feature weights=\",bestmodelcoef)\n",
        "\n",
        "X_=X+random.randrange(1,10)*0.01\n",
        "bestmodel.fit(X_,Y)\n",
        "Y_predicted = bestmodel.predict(X)#predict y of X_test\n",
        "best_model_accuracy_edited=accuracy_score(Y, Y_predicted)\n",
        "bestmodelcoef_edited=bestmodel.coef_\n",
        "print(\"best_model_accuracy_edited=\",best_model_accuracy_edited)\n",
        "print(\"feature weights_edited=\",bestmodelcoef_edited)\n",
        "\n",
        "differene_between_accuracy=best_model_accuracy_edited-best_model_accuracy\n",
        "print(\"differene_between_accuracy=\",differene_between_accuracy)\n",
        "list3=[abs(i-j) for i,j in zip(bestmodelcoef,bestmodelcoef_edited)]\n",
        "print(list3)\n",
        "list4=list3[0]\n",
        "list4=np.array(list4)\n",
        "print(\"abs_change_in_weights=\",list4)\n",
        "print(np.argsort(list4))\n",
        "list_sorted=np.argsort(list4)[::-1]\n",
        "print(\"sorted index according to abs weights=\",list_sorted)\n",
        "col_list=data.columns\n",
        "print(col_list)\n",
        "top4_feature_change=[]\n",
        "for i in list_sorted[0:4]:\n",
        "    top4_feature_change.append(col_list[i])\n",
        "print(\"top4_feature_change\",top4_feature_change)    "
      ],
      "execution_count": 16,
      "outputs": [
        {
          "output_type": "stream",
          "name": "stderr",
          "text": [
            "100%|██████████| 9/9 [00:00<00:00, 196.44it/s]\n"
          ]
        },
        {
          "output_type": "display_data",
          "data": {
            "image/png": "[encoded data removed]",
            "text/plain": [
              "<Figure size 432x288 with 1 Axes>"
            ]
          },
          "metadata": {
            "needs_background": "light"
          }
        },
        {
          "output_type": "stream",
          "name": "stdout",
          "text": [
            "best_model_accuracy= 0.52\n",
            "feature weights= [[ 0.03244351 -0.03153831  0.0440694   0.03200811 -0.03153831  0.03412819\n",
            "   0.02862859]]\n",
            "best_model_accuracy_edited= 0.51\n",
            "feature weights_edited= [[ 0.03187996 -0.0322185   0.04350955  0.03144423 -0.0322185   0.03356671\n",
            "   0.02805848]]\n",
            "differene_between_accuracy= -0.010000000000000009\n",
            "[array([0.00056355, 0.00068019, 0.00055985, 0.00056389, 0.00068019,\n",
            "       0.00056148, 0.00057011])]\n",
            "abs_change_in_weights= [0.00056355 0.00068019 0.00055985 0.00056389 0.00068019 0.00056148\n",
            " 0.00057011]\n",
            "[2 5 0 3 6 1 4]\n",
            "sorted index according to abs weights= [4 1 6 3 0 5 2]\n",
            "Index(['x', 'y', 'z', 'x*x', '2*y', '2*z+3*x*x', 'w', 'target'], dtype='object')\n",
            "top4_feature_change ['2*y', 'y', 'w', 'x*x']\n"
          ]
        }
      ]
    },
    {
      "cell_type": "code",
      "metadata": {
        "id": "Lai8wXU1pmSb",
        "colab": {
          "base_uri": "https://localhost:8080/",
          "height": 553
        },
        "outputId": "f5a5511d-4640-4ffd-f051-d605d9c60dcd"
      },
      "source": [
        "def RandomSearchCV(x,y, params, folds):\n",
        " trainscores = [] #list to store train score for each value of k\n",
        " testscores = [] #list to store test score for each value of k\n",
        " for k in tqdm(params):\n",
        "  \n",
        "  trainscores_folds = [] #list to store train score for each fold\n",
        "  testscores_folds = [] #list to store test score for each fold\n",
        "  for j in range(0, folds):\n",
        "     # check this out: https://stackoverflow.com/a/9755548/4084039\n",
        "     #train_indices = randomly_select_60_percent_indices_in_range_from_1_to_len(x_train)\n",
        "     #test_indices = list(set(list(range(1, len(x_train)))) - set(train_indices))\n",
        "     list1=[*range(1,len(x)+1)]# list of all indices in x\n",
        "     list2=np.array(list1)# converting it to np array\n",
        "     splited_array=np.array_split(list2,folds) #splitting x to in f folds\n",
        "     test_indice =splited_array[j]\n",
        "     train_indice=list(set(list(range(1,len(x)+1))) - set(test_indice))#getting index for all points of train\n",
        "     test_indices=[x -1 for x in test_indice ] #subtracting each index by one as original index of x start with 0\n",
        "     train_indices=[x -1 for x in train_indice ]#subtracting each index by one asoriginal index of x start with 0\n",
        "     # selecting the data points based on the train_indices and test_indices\n",
        "     X_train = x[train_indices]\n",
        "     Y_train = y[train_indices]\n",
        "     X_test = x[test_indices]\n",
        "     Y_test = y[test_indices]\n",
        "     c = k\n",
        "     classifier=SGDClassifier(loss='hinge',penalty='l2', alpha=c, l1_ratio=0.15,\n",
        "                                fit_intercept=True, max_iter=1000, tol=0.001, shuffle=True,\n",
        "                                verbose=0, epsilon=0.1, n_jobs=None, random_state=None, \n",
        "                                learning_rate='optimal', eta0=0.0, power_t=0.5, early_stopping=False,\n",
        "                                validation_fraction=0.1, n_iter_no_change=5, class_weight=None, \n",
        "                                warm_start=False, average=False)\n",
        "     classifier.fit(X_train,Y_train)\n",
        "     Y_predicted = classifier.predict(X_test)#predict y of X_test\n",
        "  \n",
        "     testscores_folds.append(accuracy_score(Y_test, Y_predicted))\n",
        "     Y_predicted = classifier.predict(X_train)#predict y of X_train\n",
        "     trainscores_folds.append(accuracy_score(Y_train, Y_predicted))\n",
        "  trainscores.append(np.mean(np.array(trainscores_folds)))\n",
        "  testscores.append(np.mean(np.array(testscores_folds)))\n",
        " return trainscores,testscores\n",
        "#model = LogisticRegression() #define classifier\n",
        "#list3=[*range(1,1000)]\n",
        "#param=random.sample(list3,10) #generating 10 random number betwwn 1 to 50\n",
        "param=[0.000001,0.00001,0.0001,0.001,0.1,1,10,100,1000]\n",
        "param1=[]\n",
        "for i in param:\n",
        "    tmp=math.log(i)\n",
        "    param1.append(tmp)\n",
        "\n",
        "params=[param.sort()]\n",
        "\n",
        "folds = 4\n",
        "trainscores,testscores = RandomSearchCV(X, Y, param, folds)\n",
        "\n",
        "plt.plot(param1,trainscores, 'o-',label='train cruve')\n",
        "plt.plot(param1,testscores,'o-', label='test cruve')\n",
        "plt.title('Hyper-parameter VS accuracy plot')\n",
        "plt.legend()\n",
        "plt.show()\n",
        "\n",
        "bestmodel=SGDClassifier(loss='hinge',penalty='l2', alpha=10, l1_ratio=0.15,\n",
        "                                fit_intercept=True, max_iter=1000, tol=0.001, shuffle=True,\n",
        "                                verbose=0, epsilon=0.1, n_jobs=None, random_state=None, \n",
        "                                learning_rate='optimal', eta0=0.0, power_t=0.5, early_stopping=False,\n",
        "                                validation_fraction=0.1, n_iter_no_change=5, class_weight=None, \n",
        "                                warm_start=False, average=False)\n",
        "bestmodel.fit(X,Y)\n",
        "Y_predicted = bestmodel.predict(X)#predict y of X_test\n",
        "best_model_accuracy=accuracy_score(Y, Y_predicted)\n",
        "bestmodelcoef=bestmodel.coef_\n",
        "print(\"best_model_accuracy=\",best_model_accuracy)\n",
        "print(\"feature weights=\",bestmodelcoef)\n",
        "\n",
        "X_=X+random.randrange(1,10)*0.01\n",
        "bestmodel.fit(X_,Y)\n",
        "Y_predicted = bestmodel.predict(X)#predict y of X_test\n",
        "best_model_accuracy_edited=accuracy_score(Y, Y_predicted)\n",
        "bestmodelcoef_edited=bestmodel.coef_\n",
        "print(\"best_model_accuracy_edited=\",best_model_accuracy_edited)\n",
        "print(\"feature weights_edited=\",bestmodelcoef_edited)\n",
        "\n",
        "differene_between_accuracy=best_model_accuracy_edited-best_model_accuracy\n",
        "print(\"differene_between_accuracy=\",differene_between_accuracy)\n",
        "list3=[abs(i-j) for i,j in zip(bestmodelcoef,bestmodelcoef_edited)]\n",
        "print(list3)\n",
        "list4=list3[0]\n",
        "list4=np.array(list4)\n",
        "print(\"abs_change_in_weights=\",list4)\n",
        "print(np.argsort(list4))\n",
        "list_sorted=np.argsort(list4)[::-1]\n",
        "print(\"sorted index according to abs weights=\",list_sorted)\n",
        "col_list=data.columns\n",
        "print(col_list)\n",
        "top4_feature_change=[]\n",
        "for i in list_sorted[0:4]:\n",
        "    top4_feature_change.append(col_list[i])\n",
        "print(\"top4_feature_change\",top4_feature_change)    "
      ],
      "execution_count": 20,
      "outputs": [
        {
          "output_type": "stream",
          "name": "stderr",
          "text": [
            "100%|██████████| 9/9 [00:00<00:00, 220.21it/s]\n"
          ]
        },
        {
          "output_type": "display_data",
          "data": {
            "image/png": "[encoded data removed]",
            "text/plain": [
              "<Figure size 432x288 with 1 Axes>"
            ]
          },
          "metadata": {
            "needs_background": "light"
          }
        },
        {
          "output_type": "stream",
          "name": "stdout",
          "text": [
            "best_model_accuracy= 0.63\n",
            "feature weights= [[ 0.06749926 -0.06755077  0.09295556  0.06704618 -0.06755077  0.07156491\n",
            "   0.05872509]]\n",
            "best_model_accuracy_edited= 0.61\n",
            "feature weights_edited= [[ 0.06717658 -0.0661877   0.0924363   0.06671768 -0.0661877   0.07120013\n",
            "   0.05817939]]\n",
            "differene_between_accuracy= -0.020000000000000018\n",
            "[array([0.00032268, 0.00136307, 0.00051926, 0.0003285 , 0.00136307,\n",
            "       0.00036478, 0.0005457 ])]\n",
            "abs_change_in_weights= [0.00032268 0.00136307 0.00051926 0.0003285  0.00136307 0.00036478\n",
            " 0.0005457 ]\n",
            "[0 3 5 2 6 1 4]\n",
            "sorted index according to abs weights= [4 1 6 2 5 3 0]\n",
            "Index(['x', 'y', 'z', 'x*x', '2*y', '2*z+3*x*x', 'w', 'target'], dtype='object')\n",
            "top4_feature_change ['2*y', 'y', 'w', 'z']\n"
          ]
        }
      ]
    },
    {
      "cell_type": "markdown",
      "metadata": {
        "id": "EvTOzqpNXsRT"
      },
      "source": [
        "####OBSERVATION\n",
        "\n",
        "1.In linear regression model after adding error to the features,we do not see much change in weights after pertubation.\n",
        "\n",
        "2.In LR, absolute changes in weights are approx 10^-3\n",
        "\n",
        "3.accuracy of the model also decreased a little bit .\n",
        "\n",
        "4.In SVM also feature wieghts do not change much after pertubation,\n",
        "so features are not collinear .\n",
        "\n",
        "5.accuracy score difference is also less.\n",
        "\n",
        "6.we can conclude that when feature weights drastically after pertubation ,then the feature whose weights changed are collinear feature.\n",
        "\n"
      ]
    }
  ]
}